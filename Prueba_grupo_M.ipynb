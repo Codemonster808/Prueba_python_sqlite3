{
  "nbformat": 4,
  "nbformat_minor": 0,
  "metadata": {
    "colab": {
      "name": "Prueba_grupo_M.ipynb",
      "provenance": [],
      "collapsed_sections": []
    },
    "kernelspec": {
      "display_name": "Python 3",
      "language": "python",
      "name": "python3"
    },
    "language_info": {
      "codemirror_mode": {
        "name": "ipython",
        "version": 3
      },
      "file_extension": ".py",
      "mimetype": "text/x-python",
      "name": "python",
      "nbconvert_exporter": "python",
      "pygments_lexer": "ipython3",
      "version": "3.8.2"
    }
  },
  "cells": [
    {
      "cell_type": "markdown",
      "metadata": {
        "id": "mmmXLNm8N87s"
      },
      "source": [
        "## Prueba Grupo M \n",
        "\n"
      ]
    },
    {
      "cell_type": "markdown",
      "metadata": {
        "id": "JuQTPqr-eH9j"
      },
      "source": [
        "## Preguntas teoricas "
      ]
    },
    {
      "cell_type": "markdown",
      "metadata": {
        "id": "mef_BnFueIJl"
      },
      "source": [
        "respuesta 1  \n",
        "\n",
        "B la sola proporción de objetos por estudiante no es suficiente para saber cuántos son, pero el número de objetos permite dividir los números hasta que el resultado de igual para los 3 objetos,\n",
        "\n",
        "respuesta 2\n",
        "\n",
        "C   Ambas afirmaciones (1 y 2) juntas son suficientes para contestar la\n",
        "pregunta, pero ninguna de las afirmaciones es suficiente por si solas\n",
        "para hacerlo. dado que si no se las 2 condiciones seguramente fallen el calcular y ya que como menciona la primera condición x+y = 3x pero z> y así que si solo tomo la primera en cuenta podría hacer 20+40 = 60 \n",
        "donde z seria 40 pero la segunda condición habla que z es mayor q y \n",
        "\n",
        "Respuesta 3 \n",
        "\n",
        "C Ambas afirmaciones (1 y 2) juntas son suficientes para contestar la\n",
        "pregunta, pero ninguna de las afirmaciones es suficiente por si sola\n",
        "para hacerlo.\n",
        " ya que al ver el paso de un numero a es una división entre 4 del valor\n"
      ]
    },
    {
      "cell_type": "markdown",
      "metadata": {
        "id": "i7DOw6VQeIWw"
      },
      "source": [
        "#  SQL  y modelado"
      ]
    },
    {
      "cell_type": "code",
      "metadata": {
        "id": "CYmXXMpiSppi"
      },
      "source": [
        "import pandas as pd\n",
        "import numpy as np\n",
        "import sqlite3\n",
        "import matplotlib.pyplot as plt\n",
        "import seaborn as sns\n",
        "\n",
        "\n"
      ],
      "execution_count": null,
      "outputs": []
    },
    {
      "cell_type": "code",
      "metadata": {
        "id": "FP-7xvSWT4T-"
      },
      "source": [
        "#CREAMOS LA BASE\n",
        "con = sqlite3.connect('BaseGM.db')\n",
        "#CRREAMOS EL OBJETO CURSOR\n",
        "cursorObj = con.cursor()"
      ],
      "execution_count": null,
      "outputs": []
    },
    {
      "cell_type": "code",
      "metadata": {
        "colab": {
          "base_uri": "https://localhost:8080/"
        },
        "id": "IJ9HrPruLpWq",
        "outputId": "625fc6ad-55a4-4c2c-833c-1aef27c1d567"
      },
      "source": [
        "from google.colab import drive\n",
        "drive.mount('/content/drive')"
      ],
      "execution_count": null,
      "outputs": [
        {
          "output_type": "stream",
          "name": "stdout",
          "text": [
            "Go to this URL in a browser: https://accounts.google.com/o/oauth2/auth?client_id=947318989803-6bn6qk8qdgf4n4g3pfee6491hc0brc4i.apps.googleusercontent.com&redirect_uri=urn%3aietf%3awg%3aoauth%3a2.0%3aoob&scope=email%20https%3a%2f%2fwww.googleapis.com%2fauth%2fdocs.test%20https%3a%2f%2fwww.googleapis.com%2fauth%2fdrive%20https%3a%2f%2fwww.googleapis.com%2fauth%2fdrive.photos.readonly%20https%3a%2f%2fwww.googleapis.com%2fauth%2fpeopleapi.readonly%20https%3a%2f%2fwww.googleapis.com%2fauth%2fdrive.activity.readonly%20https%3a%2f%2fwww.googleapis.com%2fauth%2fexperimentsandconfigs%20https%3a%2f%2fwww.googleapis.com%2fauth%2fphotos.native&response_type=code\n",
            "\n",
            "Enter your authorization code:\n",
            "4/1AX4XfWgFHAxv2yiN9e3uLthNEW4BYdNO4ixjYsNa8eZQIEqoECUZX_ot85g\n",
            "Mounted at /content/drive\n"
          ]
        }
      ]
    },
    {
      "cell_type": "code",
      "metadata": {
        "id": "f7UgOS8aLftP"
      },
      "source": [
        "datos = pd.read_excel(\"/content/drive/MyDrive/Prueba_groupM/Data para prueba - Digital.xlsx\")\n",
        "datos1 = pd.read_excel(\"/content/drive/MyDrive/Prueba_groupM/Data para prueba - Email.xlsx\")\n",
        "datos2 = pd.read_excel(\"/content/drive/MyDrive/Prueba_groupM/Data para prueba - TV.xlsx\")\n",
        "datos3 = pd.read_excel (\"/content/drive/MyDrive/Prueba_groupM/Data para prueba - Ventas.xlsx\")"
      ],
      "execution_count": null,
      "outputs": []
    },
    {
      "cell_type": "code",
      "metadata": {
        "colab": {
          "base_uri": "https://localhost:8080/",
          "height": 206
        },
        "id": "hYcM6ZHbhsZ9",
        "outputId": "2ac3f0c0-8923-4a0d-bc94-0d59449798fd"
      },
      "source": [
        "datos.head()"
      ],
      "execution_count": null,
      "outputs": [
        {
          "output_type": "execute_result",
          "data": {
            "text/html": [
              "<div>\n",
              "<style scoped>\n",
              "    .dataframe tbody tr th:only-of-type {\n",
              "        vertical-align: middle;\n",
              "    }\n",
              "\n",
              "    .dataframe tbody tr th {\n",
              "        vertical-align: top;\n",
              "    }\n",
              "\n",
              "    .dataframe thead th {\n",
              "        text-align: right;\n",
              "    }\n",
              "</style>\n",
              "<table border=\"1\" class=\"dataframe\">\n",
              "  <thead>\n",
              "    <tr style=\"text-align: right;\">\n",
              "      <th></th>\n",
              "      <th>Date</th>\n",
              "      <th>Objective</th>\n",
              "      <th>Product</th>\n",
              "      <th>Impressions</th>\n",
              "      <th>Spend</th>\n",
              "    </tr>\n",
              "  </thead>\n",
              "  <tbody>\n",
              "    <tr>\n",
              "      <th>0</th>\n",
              "      <td>2020-04-20</td>\n",
              "      <td>Performance</td>\n",
              "      <td>Hard Coolers</td>\n",
              "      <td>178804.5</td>\n",
              "      <td>138.0</td>\n",
              "    </tr>\n",
              "    <tr>\n",
              "      <th>1</th>\n",
              "      <td>2020-04-21</td>\n",
              "      <td>Performance</td>\n",
              "      <td>Hard Coolers</td>\n",
              "      <td>236516.5</td>\n",
              "      <td>184.0</td>\n",
              "    </tr>\n",
              "    <tr>\n",
              "      <th>2</th>\n",
              "      <td>2020-04-22</td>\n",
              "      <td>Performance</td>\n",
              "      <td>Hard Coolers</td>\n",
              "      <td>234520.0</td>\n",
              "      <td>184.0</td>\n",
              "    </tr>\n",
              "    <tr>\n",
              "      <th>3</th>\n",
              "      <td>2020-04-23</td>\n",
              "      <td>Performance</td>\n",
              "      <td>Hard Coolers</td>\n",
              "      <td>235484.5</td>\n",
              "      <td>184.0</td>\n",
              "    </tr>\n",
              "    <tr>\n",
              "      <th>4</th>\n",
              "      <td>2020-04-23</td>\n",
              "      <td>Performance</td>\n",
              "      <td>Hard Coolers</td>\n",
              "      <td>234019.0</td>\n",
              "      <td>182.5</td>\n",
              "    </tr>\n",
              "  </tbody>\n",
              "</table>\n",
              "</div>"
            ],
            "text/plain": [
              "        Date    Objective       Product  Impressions  Spend\n",
              "0 2020-04-20  Performance  Hard Coolers     178804.5  138.0\n",
              "1 2020-04-21  Performance  Hard Coolers     236516.5  184.0\n",
              "2 2020-04-22  Performance  Hard Coolers     234520.0  184.0\n",
              "3 2020-04-23  Performance  Hard Coolers     235484.5  184.0\n",
              "4 2020-04-23  Performance  Hard Coolers     234019.0  182.5"
            ]
          },
          "metadata": {},
          "execution_count": 7
        }
      ]
    },
    {
      "cell_type": "code",
      "metadata": {
        "colab": {
          "base_uri": "https://localhost:8080/",
          "height": 206
        },
        "id": "mhroCOvChsrj",
        "outputId": "2225a6d4-5379-42e1-e559-44d56077b518"
      },
      "source": [
        "datos1.head()"
      ],
      "execution_count": null,
      "outputs": [
        {
          "output_type": "execute_result",
          "data": {
            "text/html": [
              "<div>\n",
              "<style scoped>\n",
              "    .dataframe tbody tr th:only-of-type {\n",
              "        vertical-align: middle;\n",
              "    }\n",
              "\n",
              "    .dataframe tbody tr th {\n",
              "        vertical-align: top;\n",
              "    }\n",
              "\n",
              "    .dataframe thead th {\n",
              "        text-align: right;\n",
              "    }\n",
              "</style>\n",
              "<table border=\"1\" class=\"dataframe\">\n",
              "  <thead>\n",
              "    <tr style=\"text-align: right;\">\n",
              "      <th></th>\n",
              "      <th>Year</th>\n",
              "      <th>Fiscal_Week</th>\n",
              "      <th>Email_Send_Volume</th>\n",
              "      <th>Campaigns_Sent_Per_Week</th>\n",
              "      <th>Promo</th>\n",
              "      <th>Database Size</th>\n",
              "    </tr>\n",
              "  </thead>\n",
              "  <tbody>\n",
              "    <tr>\n",
              "      <th>0</th>\n",
              "      <td>2018</td>\n",
              "      <td>1</td>\n",
              "      <td>1395776</td>\n",
              "      <td>4</td>\n",
              "      <td>no</td>\n",
              "      <td>348944.00</td>\n",
              "    </tr>\n",
              "    <tr>\n",
              "      <th>1</th>\n",
              "      <td>2018</td>\n",
              "      <td>2</td>\n",
              "      <td>2807723</td>\n",
              "      <td>6</td>\n",
              "      <td>no</td>\n",
              "      <td>467953.83</td>\n",
              "    </tr>\n",
              "    <tr>\n",
              "      <th>2</th>\n",
              "      <td>2018</td>\n",
              "      <td>3</td>\n",
              "      <td>0</td>\n",
              "      <td>0</td>\n",
              "      <td>no</td>\n",
              "      <td>NaN</td>\n",
              "    </tr>\n",
              "    <tr>\n",
              "      <th>3</th>\n",
              "      <td>2018</td>\n",
              "      <td>4</td>\n",
              "      <td>1664550</td>\n",
              "      <td>4</td>\n",
              "      <td>no</td>\n",
              "      <td>416137.50</td>\n",
              "    </tr>\n",
              "    <tr>\n",
              "      <th>4</th>\n",
              "      <td>2018</td>\n",
              "      <td>5</td>\n",
              "      <td>808457</td>\n",
              "      <td>6</td>\n",
              "      <td>no</td>\n",
              "      <td>134742.83</td>\n",
              "    </tr>\n",
              "  </tbody>\n",
              "</table>\n",
              "</div>"
            ],
            "text/plain": [
              "   Year  Fiscal_Week  ...  Promo  Database Size\n",
              "0  2018            1  ...     no      348944.00\n",
              "1  2018            2  ...     no      467953.83\n",
              "2  2018            3  ...     no            NaN\n",
              "3  2018            4  ...     no      416137.50\n",
              "4  2018            5  ...     no      134742.83\n",
              "\n",
              "[5 rows x 6 columns]"
            ]
          },
          "metadata": {},
          "execution_count": 8
        }
      ]
    },
    {
      "cell_type": "code",
      "metadata": {
        "colab": {
          "base_uri": "https://localhost:8080/",
          "height": 206
        },
        "id": "k_xiccMrhs4Q",
        "outputId": "d93d3db7-95ed-41a2-eb3c-02d9b512ee11"
      },
      "source": [
        "datos2.head()"
      ],
      "execution_count": null,
      "outputs": [
        {
          "output_type": "execute_result",
          "data": {
            "text/html": [
              "<div>\n",
              "<style scoped>\n",
              "    .dataframe tbody tr th:only-of-type {\n",
              "        vertical-align: middle;\n",
              "    }\n",
              "\n",
              "    .dataframe tbody tr th {\n",
              "        vertical-align: top;\n",
              "    }\n",
              "\n",
              "    .dataframe thead th {\n",
              "        text-align: right;\n",
              "    }\n",
              "</style>\n",
              "<table border=\"1\" class=\"dataframe\">\n",
              "  <thead>\n",
              "    <tr style=\"text-align: right;\">\n",
              "      <th></th>\n",
              "      <th>TIME_PERIOD</th>\n",
              "      <th>_PRODUCT</th>\n",
              "      <th>_MARKET</th>\n",
              "      <th>_PROPERTY</th>\n",
              "      <th>_DOW</th>\n",
              "      <th>_DATE</th>\n",
              "      <th>_TIME</th>\n",
              "      <th>_LEN</th>\n",
              "      <th>_DOLS</th>\n",
              "      <th>_UNITS</th>\n",
              "      <th>_HH_GRP</th>\n",
              "      <th>_P_25_54_GRP</th>\n",
              "    </tr>\n",
              "  </thead>\n",
              "  <tbody>\n",
              "    <tr>\n",
              "      <th>0</th>\n",
              "      <td>2021-01-01</td>\n",
              "      <td>Hard coolers</td>\n",
              "      <td>* TOTAL US</td>\n",
              "      <td>TNT</td>\n",
              "      <td>FRI</td>\n",
              "      <td>2021-01-01</td>\n",
              "      <td>09:11:26pm</td>\n",
              "      <td>30</td>\n",
              "      <td>6113</td>\n",
              "      <td>1</td>\n",
              "      <td>0.6</td>\n",
              "      <td>0.735</td>\n",
              "    </tr>\n",
              "    <tr>\n",
              "      <th>1</th>\n",
              "      <td>2021-01-01</td>\n",
              "      <td>Hard coolers</td>\n",
              "      <td>* TOTAL US</td>\n",
              "      <td>GOLF</td>\n",
              "      <td>FRI</td>\n",
              "      <td>2021-01-01</td>\n",
              "      <td>12:39:32pm</td>\n",
              "      <td>30</td>\n",
              "      <td>193</td>\n",
              "      <td>1</td>\n",
              "      <td>0.0</td>\n",
              "      <td>0.000</td>\n",
              "    </tr>\n",
              "    <tr>\n",
              "      <th>2</th>\n",
              "      <td>2021-01-01</td>\n",
              "      <td>Hard coolers</td>\n",
              "      <td>* TOTAL US</td>\n",
              "      <td>TBS</td>\n",
              "      <td>FRI</td>\n",
              "      <td>2021-01-01</td>\n",
              "      <td>09:19:30pm</td>\n",
              "      <td>30</td>\n",
              "      <td>13504</td>\n",
              "      <td>1</td>\n",
              "      <td>0.3</td>\n",
              "      <td>0.294</td>\n",
              "    </tr>\n",
              "    <tr>\n",
              "      <th>3</th>\n",
              "      <td>2021-01-01</td>\n",
              "      <td>Hard coolers</td>\n",
              "      <td>* TOTAL US</td>\n",
              "      <td>TBS</td>\n",
              "      <td>FRI</td>\n",
              "      <td>2021-01-01</td>\n",
              "      <td>11:38:57pm</td>\n",
              "      <td>30</td>\n",
              "      <td>13504</td>\n",
              "      <td>1</td>\n",
              "      <td>0.2</td>\n",
              "      <td>0.147</td>\n",
              "    </tr>\n",
              "    <tr>\n",
              "      <th>4</th>\n",
              "      <td>2021-01-01</td>\n",
              "      <td>Hard coolers</td>\n",
              "      <td>* TOTAL US</td>\n",
              "      <td>BBCA</td>\n",
              "      <td>FRI</td>\n",
              "      <td>2021-01-01</td>\n",
              "      <td>05:48:40am</td>\n",
              "      <td>30</td>\n",
              "      <td>723</td>\n",
              "      <td>1</td>\n",
              "      <td>0.0</td>\n",
              "      <td>0.000</td>\n",
              "    </tr>\n",
              "  </tbody>\n",
              "</table>\n",
              "</div>"
            ],
            "text/plain": [
              "  TIME_PERIOD      _PRODUCT     _MARKET  ... _UNITS _HH_GRP _P_25_54_GRP\n",
              "0  2021-01-01  Hard coolers  * TOTAL US  ...      1     0.6        0.735\n",
              "1  2021-01-01  Hard coolers  * TOTAL US  ...      1     0.0        0.000\n",
              "2  2021-01-01  Hard coolers  * TOTAL US  ...      1     0.3        0.294\n",
              "3  2021-01-01  Hard coolers  * TOTAL US  ...      1     0.2        0.147\n",
              "4  2021-01-01  Hard coolers  * TOTAL US  ...      1     0.0        0.000\n",
              "\n",
              "[5 rows x 12 columns]"
            ]
          },
          "metadata": {},
          "execution_count": 9
        }
      ]
    },
    {
      "cell_type": "code",
      "metadata": {
        "colab": {
          "base_uri": "https://localhost:8080/",
          "height": 206
        },
        "id": "Nr1mB5GThtFH",
        "outputId": "d688f2da-6277-4a85-f02c-52e308235d8a"
      },
      "source": [
        "datos3.head()"
      ],
      "execution_count": null,
      "outputs": [
        {
          "output_type": "execute_result",
          "data": {
            "text/html": [
              "<div>\n",
              "<style scoped>\n",
              "    .dataframe tbody tr th:only-of-type {\n",
              "        vertical-align: middle;\n",
              "    }\n",
              "\n",
              "    .dataframe tbody tr th {\n",
              "        vertical-align: top;\n",
              "    }\n",
              "\n",
              "    .dataframe thead th {\n",
              "        text-align: right;\n",
              "    }\n",
              "</style>\n",
              "<table border=\"1\" class=\"dataframe\">\n",
              "  <thead>\n",
              "    <tr style=\"text-align: right;\">\n",
              "      <th></th>\n",
              "      <th>Year</th>\n",
              "      <th>Fiscal_Week</th>\n",
              "      <th>product_category_adj</th>\n",
              "      <th>Census_Region</th>\n",
              "      <th>sellthru_rtl</th>\n",
              "      <th>sellthru_units</th>\n",
              "      <th>total_sales</th>\n",
              "    </tr>\n",
              "  </thead>\n",
              "  <tbody>\n",
              "    <tr>\n",
              "      <th>0</th>\n",
              "      <td>2019</td>\n",
              "      <td>1</td>\n",
              "      <td>Hard Cooler</td>\n",
              "      <td>East South Central</td>\n",
              "      <td>0.0</td>\n",
              "      <td>0</td>\n",
              "      <td>0</td>\n",
              "    </tr>\n",
              "    <tr>\n",
              "      <th>1</th>\n",
              "      <td>2019</td>\n",
              "      <td>1</td>\n",
              "      <td>Hard Cooler</td>\n",
              "      <td>East North Central</td>\n",
              "      <td>0.0</td>\n",
              "      <td>0</td>\n",
              "      <td>0</td>\n",
              "    </tr>\n",
              "    <tr>\n",
              "      <th>2</th>\n",
              "      <td>2019</td>\n",
              "      <td>1</td>\n",
              "      <td>Hard Cooler</td>\n",
              "      <td>East North Central</td>\n",
              "      <td>105.0</td>\n",
              "      <td>3</td>\n",
              "      <td>108</td>\n",
              "    </tr>\n",
              "    <tr>\n",
              "      <th>3</th>\n",
              "      <td>2019</td>\n",
              "      <td>1</td>\n",
              "      <td>Hard Cooler</td>\n",
              "      <td>East North Central</td>\n",
              "      <td>177.0</td>\n",
              "      <td>6</td>\n",
              "      <td>183</td>\n",
              "    </tr>\n",
              "    <tr>\n",
              "      <th>4</th>\n",
              "      <td>2019</td>\n",
              "      <td>1</td>\n",
              "      <td>Hard Cooler</td>\n",
              "      <td>East North Central</td>\n",
              "      <td>30.0</td>\n",
              "      <td>1</td>\n",
              "      <td>31</td>\n",
              "    </tr>\n",
              "  </tbody>\n",
              "</table>\n",
              "</div>"
            ],
            "text/plain": [
              "   Year  Fiscal_Week  ... sellthru_units total_sales\n",
              "0  2019            1  ...              0           0\n",
              "1  2019            1  ...              0           0\n",
              "2  2019            1  ...              3         108\n",
              "3  2019            1  ...              6         183\n",
              "4  2019            1  ...              1          31\n",
              "\n",
              "[5 rows x 7 columns]"
            ]
          },
          "metadata": {},
          "execution_count": 10
        }
      ]
    },
    {
      "cell_type": "markdown",
      "metadata": {
        "id": "6K11ICl7vn2g"
      },
      "source": [
        "Ahora, cargamos los dataframes en la base de datos."
      ]
    },
    {
      "cell_type": "code",
      "metadata": {
        "colab": {
          "base_uri": "https://localhost:8080/"
        },
        "id": "7vbJuDTZazy_",
        "outputId": "e5f71b4a-202b-464d-8d5a-a90d037b165d"
      },
      "source": [
        "datos.to_sql('Digital', con)\n",
        "datos1.to_sql('Email', con)\n",
        "datos2.to_sql('TV', con)\n",
        "datos3.to_sql('Ventas', con)"
      ],
      "execution_count": null,
      "outputs": [
        {
          "output_type": "stream",
          "name": "stderr",
          "text": [
            "/usr/local/lib/python3.7/dist-packages/pandas/core/generic.py:2615: UserWarning: The spaces in these column names will not be changed. In pandas versions < 0.14, spaces were converted to underscores.\n",
            "  method=method,\n"
          ]
        }
      ]
    },
    {
      "cell_type": "code",
      "metadata": {
        "colab": {
          "base_uri": "https://localhost:8080/"
        },
        "id": "rA0K7rrkfV7E",
        "outputId": "1f9b697e-e00c-496c-cea8-59b0fe7c46c3"
      },
      "source": [
        "# Consultamos el nombre de las tablas que tiene nuestra BD\n",
        "print(pd.read_sql(\"SELECT name FROM sqlite_master WHERE type='table';\", con))"
      ],
      "execution_count": null,
      "outputs": [
        {
          "output_type": "stream",
          "name": "stdout",
          "text": [
            "      name\n",
            "0  Digital\n",
            "1    Email\n",
            "2       TV\n",
            "3   Ventas\n"
          ]
        }
      ]
    },
    {
      "cell_type": "code",
      "metadata": {
        "colab": {
          "base_uri": "https://localhost:8080/"
        },
        "id": "vkkj9IWTleel",
        "outputId": "a6ac1f2b-ae4a-4451-bef6-11fad64e9d96"
      },
      "source": [
        "# Consultamos la tabla Email\n",
        "print(pd.read_sql(\"SELECT * FROM Digital;\", con))\n"
      ],
      "execution_count": null,
      "outputs": [
        {
          "output_type": "stream",
          "name": "stdout",
          "text": [
            "     index                 Date    Objective       Product  Impressions  Spend\n",
            "0        0  2020-04-20 00:00:00  Performance  Hard Coolers     178804.5  138.0\n",
            "1        1  2020-04-21 00:00:00  Performance  Hard Coolers     236516.5  184.0\n",
            "2        2  2020-04-22 00:00:00  Performance  Hard Coolers     234520.0  184.0\n",
            "3        3  2020-04-23 00:00:00  Performance  Hard Coolers     235484.5  184.0\n",
            "4        4  2020-04-23 00:00:00  Performance  Hard Coolers     234019.0  182.5\n",
            "..     ...                  ...          ...           ...          ...    ...\n",
            "288    288  2021-05-05 00:00:00  Performance  Hard Coolers      67491.0  136.5\n",
            "289    289  2021-05-06 00:00:00  Performance  Hard Coolers      65923.0   94.0\n",
            "290    290  2021-05-07 00:00:00  Performance  Hard Coolers      36868.0  113.5\n",
            "291    291  2021-05-08 00:00:00  Performance  Hard Coolers      48077.0  158.0\n",
            "292    292  2021-05-09 00:00:00  Performance  Hard Coolers      40105.5  126.0\n",
            "\n",
            "[293 rows x 6 columns]\n"
          ]
        }
      ]
    },
    {
      "cell_type": "code",
      "metadata": {
        "colab": {
          "base_uri": "https://localhost:8080/"
        },
        "id": "VRgi0i3HLHRu",
        "outputId": "8413494d-61f0-4982-84c7-dbd71fb7d854"
      },
      "source": [
        "# Consultamos la tabla Email\n",
        "print(pd.read_sql(\"SELECT * FROM Email;\", con))"
      ],
      "execution_count": null,
      "outputs": [
        {
          "output_type": "stream",
          "name": "stdout",
          "text": [
            "     index  Year  Fiscal_Week  ...  Campaigns_Sent_Per_Week  Promo Database Size\n",
            "0        0  2018            1  ...                        4     no     348944.00\n",
            "1        1  2018            2  ...                        6     no     467953.83\n",
            "2        2  2018            3  ...                        0     no           NaN\n",
            "3        3  2018            4  ...                        4     no     416137.50\n",
            "4        4  2018            5  ...                        6     no     134742.83\n",
            "..     ...   ...          ...  ...                      ...    ...           ...\n",
            "164    164  2021            9  ...                        5     no    2509016.33\n",
            "165    165  2021           10  ...                        4     no    2516269.25\n",
            "166    166  2021           11  ...                        3     no    2420437.67\n",
            "167    167  2021           12  ...                        5     no    2120102.40\n",
            "168    168  2021           13  ...                        5     no    2525329.20\n",
            "\n",
            "[169 rows x 7 columns]\n"
          ]
        }
      ]
    },
    {
      "cell_type": "code",
      "metadata": {
        "colab": {
          "base_uri": "https://localhost:8080/"
        },
        "id": "WOtO-IIqNAC0",
        "outputId": "2528e2e1-2370-4438-d44d-e5c8c013ff41"
      },
      "source": [
        "# Consultamos la tabla TV\n",
        "print(pd.read_sql(\"SELECT * FROM TV;\", con))"
      ],
      "execution_count": null,
      "outputs": [
        {
          "output_type": "stream",
          "name": "stdout",
          "text": [
            "    index          TIME_PERIOD      _PRODUCT  ... _UNITS _HH_GRP _P_25_54_GRP\n",
            "0       0  2021-01-01 00:00:00  Hard coolers  ...      1     0.6        0.735\n",
            "1       1  2021-01-01 00:00:00  Hard coolers  ...      1     0.0        0.000\n",
            "2       2  2021-01-01 00:00:00  Hard coolers  ...      1     0.3        0.294\n",
            "3       3  2021-01-01 00:00:00  Hard coolers  ...      1     0.2        0.147\n",
            "4       4  2021-01-01 00:00:00  Hard coolers  ...      1     0.0        0.000\n",
            "..    ...                  ...           ...  ...    ...     ...          ...\n",
            "79     79  2021-04-18 00:00:00  Hard coolers  ...      1     0.4        0.294\n",
            "80     80  2021-04-25 00:00:00  Hard coolers  ...      1     NaN        0.000\n",
            "81     81  2021-04-25 00:00:00  Hard coolers  ...      1     NaN        0.000\n",
            "82     82  2021-05-02 00:00:00  Hard coolers  ...      1     NaN        0.000\n",
            "83     83  2021-05-02 00:00:00  Hard coolers  ...      1     NaN        0.000\n",
            "\n",
            "[84 rows x 13 columns]\n"
          ]
        }
      ]
    },
    {
      "cell_type": "code",
      "metadata": {
        "colab": {
          "base_uri": "https://localhost:8080/"
        },
        "id": "Cn3EWDWgjmGG",
        "outputId": "d58419ab-2adf-4f7f-81fe-4c3d42debb3b"
      },
      "source": [
        "# Consultamos la tabla Ventas\n",
        "print(pd.read_sql(\"SELECT * FROM Ventas;\", con))"
      ],
      "execution_count": null,
      "outputs": [
        {
          "output_type": "stream",
          "name": "stdout",
          "text": [
            "       index  Year  Fiscal_Week  ... sellthru_rtl sellthru_units  total_sales\n",
            "0          0  2019            1  ...          0.0              0            0\n",
            "1          1  2019            1  ...          0.0              0            0\n",
            "2          2  2019            1  ...        105.0              3          108\n",
            "3          3  2019            1  ...        177.0              6          183\n",
            "4          4  2019            1  ...         30.0              1           31\n",
            "...      ...   ...          ...  ...          ...            ...          ...\n",
            "79246  79246  2018           52  ...         60.0              2           62\n",
            "79247  79247  2018           52  ...          0.0              0            0\n",
            "79248  79248  2018           52  ...          0.0              0            0\n",
            "79249  79249  2018           52  ...          0.0              0            0\n",
            "79250  79250  2018           52  ...          0.0              0            0\n",
            "\n",
            "[79251 rows x 8 columns]\n"
          ]
        }
      ]
    },
    {
      "cell_type": "markdown",
      "metadata": {
        "id": "rGSV4WAKxvoT"
      },
      "source": [
        "## Vamos ahora a crear nuestro dataset para realizar el modelo "
      ]
    },
    {
      "cell_type": "code",
      "metadata": {
        "id": "9i8cx7fMJEhD"
      },
      "source": [
        "datos4 = pd.read_sql(\"SELECT Email.Year,Email.Fiscal_Week,Census_Region,product_category_adj,total_sales,Email_Send_Volume FROM Email,Ventas WHERE Email.Year = Ventas.Year AND Email.Fiscal_Week = Ventas.Fiscal_Week AND product_category_adj = 'Hard Cooler' AND\tCensus_Region =\t'East North Central' \",con)\n"
      ],
      "execution_count": null,
      "outputs": []
    },
    {
      "cell_type": "code",
      "metadata": {
        "colab": {
          "base_uri": "https://localhost:8080/",
          "height": 206
        },
        "id": "kE4N3DyrRodB",
        "collapsed": true,
        "outputId": "7216819a-4463-4141-842d-232e6c592c2a"
      },
      "source": [
        "datos4.head()"
      ],
      "execution_count": null,
      "outputs": [
        {
          "output_type": "execute_result",
          "data": {
            "text/html": [
              "<div>\n",
              "<style scoped>\n",
              "    .dataframe tbody tr th:only-of-type {\n",
              "        vertical-align: middle;\n",
              "    }\n",
              "\n",
              "    .dataframe tbody tr th {\n",
              "        vertical-align: top;\n",
              "    }\n",
              "\n",
              "    .dataframe thead th {\n",
              "        text-align: right;\n",
              "    }\n",
              "</style>\n",
              "<table border=\"1\" class=\"dataframe\">\n",
              "  <thead>\n",
              "    <tr style=\"text-align: right;\">\n",
              "      <th></th>\n",
              "      <th>Year</th>\n",
              "      <th>Fiscal_Week</th>\n",
              "      <th>Census_Region</th>\n",
              "      <th>product_category_adj</th>\n",
              "      <th>total_sales</th>\n",
              "      <th>Email_Send_Volume</th>\n",
              "    </tr>\n",
              "  </thead>\n",
              "  <tbody>\n",
              "    <tr>\n",
              "      <th>0</th>\n",
              "      <td>2019</td>\n",
              "      <td>1</td>\n",
              "      <td>East North Central</td>\n",
              "      <td>Hard Cooler</td>\n",
              "      <td>0</td>\n",
              "      <td>3795307</td>\n",
              "    </tr>\n",
              "    <tr>\n",
              "      <th>1</th>\n",
              "      <td>2019</td>\n",
              "      <td>1</td>\n",
              "      <td>East North Central</td>\n",
              "      <td>Hard Cooler</td>\n",
              "      <td>108</td>\n",
              "      <td>3795307</td>\n",
              "    </tr>\n",
              "    <tr>\n",
              "      <th>2</th>\n",
              "      <td>2019</td>\n",
              "      <td>1</td>\n",
              "      <td>East North Central</td>\n",
              "      <td>Hard Cooler</td>\n",
              "      <td>183</td>\n",
              "      <td>3795307</td>\n",
              "    </tr>\n",
              "    <tr>\n",
              "      <th>3</th>\n",
              "      <td>2019</td>\n",
              "      <td>1</td>\n",
              "      <td>East North Central</td>\n",
              "      <td>Hard Cooler</td>\n",
              "      <td>31</td>\n",
              "      <td>3795307</td>\n",
              "    </tr>\n",
              "    <tr>\n",
              "      <th>4</th>\n",
              "      <td>2019</td>\n",
              "      <td>1</td>\n",
              "      <td>East North Central</td>\n",
              "      <td>Hard Cooler</td>\n",
              "      <td>0</td>\n",
              "      <td>3795307</td>\n",
              "    </tr>\n",
              "  </tbody>\n",
              "</table>\n",
              "</div>"
            ],
            "text/plain": [
              "   Year  Fiscal_Week  ... total_sales Email_Send_Volume\n",
              "0  2019            1  ...           0           3795307\n",
              "1  2019            1  ...         108           3795307\n",
              "2  2019            1  ...         183           3795307\n",
              "3  2019            1  ...          31           3795307\n",
              "4  2019            1  ...           0           3795307\n",
              "\n",
              "[5 rows x 6 columns]"
            ]
          },
          "metadata": {},
          "execution_count": 18
        }
      ]
    },
    {
      "cell_type": "markdown",
      "metadata": {
        "id": "c66H9iEgx-bY"
      },
      "source": [
        "## Subimos esta nueva tabla a la base de datos"
      ]
    },
    {
      "cell_type": "code",
      "metadata": {
        "id": "AxvILJp-hF7y"
      },
      "source": [
        "datos5 = datos4.copy()\n",
        "\n",
        "datos5.to_sql('base_modelo',con,index=False,if_exists=\"replace\")"
      ],
      "execution_count": null,
      "outputs": []
    },
    {
      "cell_type": "code",
      "metadata": {
        "colab": {
          "base_uri": "https://localhost:8080/",
          "height": 363
        },
        "id": "sNez4CMhyir_",
        "outputId": "b6f6fece-2e31-4acd-d391-2a160c33a97b"
      },
      "source": [
        "pd.read_sql(\"SELECT *  FROM  base_modelo LIMIT 10 \",con)"
      ],
      "execution_count": null,
      "outputs": [
        {
          "output_type": "execute_result",
          "data": {
            "text/html": [
              "<div>\n",
              "<style scoped>\n",
              "    .dataframe tbody tr th:only-of-type {\n",
              "        vertical-align: middle;\n",
              "    }\n",
              "\n",
              "    .dataframe tbody tr th {\n",
              "        vertical-align: top;\n",
              "    }\n",
              "\n",
              "    .dataframe thead th {\n",
              "        text-align: right;\n",
              "    }\n",
              "</style>\n",
              "<table border=\"1\" class=\"dataframe\">\n",
              "  <thead>\n",
              "    <tr style=\"text-align: right;\">\n",
              "      <th></th>\n",
              "      <th>Year</th>\n",
              "      <th>Fiscal_Week</th>\n",
              "      <th>Census_Region</th>\n",
              "      <th>product_category_adj</th>\n",
              "      <th>total_sales</th>\n",
              "      <th>Email_Send_Volume</th>\n",
              "    </tr>\n",
              "  </thead>\n",
              "  <tbody>\n",
              "    <tr>\n",
              "      <th>0</th>\n",
              "      <td>2019</td>\n",
              "      <td>1</td>\n",
              "      <td>East North Central</td>\n",
              "      <td>Hard Cooler</td>\n",
              "      <td>0</td>\n",
              "      <td>3795307</td>\n",
              "    </tr>\n",
              "    <tr>\n",
              "      <th>1</th>\n",
              "      <td>2019</td>\n",
              "      <td>1</td>\n",
              "      <td>East North Central</td>\n",
              "      <td>Hard Cooler</td>\n",
              "      <td>108</td>\n",
              "      <td>3795307</td>\n",
              "    </tr>\n",
              "    <tr>\n",
              "      <th>2</th>\n",
              "      <td>2019</td>\n",
              "      <td>1</td>\n",
              "      <td>East North Central</td>\n",
              "      <td>Hard Cooler</td>\n",
              "      <td>183</td>\n",
              "      <td>3795307</td>\n",
              "    </tr>\n",
              "    <tr>\n",
              "      <th>3</th>\n",
              "      <td>2019</td>\n",
              "      <td>1</td>\n",
              "      <td>East North Central</td>\n",
              "      <td>Hard Cooler</td>\n",
              "      <td>31</td>\n",
              "      <td>3795307</td>\n",
              "    </tr>\n",
              "    <tr>\n",
              "      <th>4</th>\n",
              "      <td>2019</td>\n",
              "      <td>1</td>\n",
              "      <td>East North Central</td>\n",
              "      <td>Hard Cooler</td>\n",
              "      <td>0</td>\n",
              "      <td>3795307</td>\n",
              "    </tr>\n",
              "    <tr>\n",
              "      <th>5</th>\n",
              "      <td>2019</td>\n",
              "      <td>1</td>\n",
              "      <td>East North Central</td>\n",
              "      <td>Hard Cooler</td>\n",
              "      <td>0</td>\n",
              "      <td>3795307</td>\n",
              "    </tr>\n",
              "    <tr>\n",
              "      <th>6</th>\n",
              "      <td>2019</td>\n",
              "      <td>1</td>\n",
              "      <td>East North Central</td>\n",
              "      <td>Hard Cooler</td>\n",
              "      <td>0</td>\n",
              "      <td>3795307</td>\n",
              "    </tr>\n",
              "    <tr>\n",
              "      <th>7</th>\n",
              "      <td>2019</td>\n",
              "      <td>1</td>\n",
              "      <td>East North Central</td>\n",
              "      <td>Hard Cooler</td>\n",
              "      <td>0</td>\n",
              "      <td>3795307</td>\n",
              "    </tr>\n",
              "    <tr>\n",
              "      <th>8</th>\n",
              "      <td>2019</td>\n",
              "      <td>1</td>\n",
              "      <td>East North Central</td>\n",
              "      <td>Hard Cooler</td>\n",
              "      <td>156</td>\n",
              "      <td>3795307</td>\n",
              "    </tr>\n",
              "    <tr>\n",
              "      <th>9</th>\n",
              "      <td>2019</td>\n",
              "      <td>1</td>\n",
              "      <td>East North Central</td>\n",
              "      <td>Hard Cooler</td>\n",
              "      <td>16</td>\n",
              "      <td>3795307</td>\n",
              "    </tr>\n",
              "  </tbody>\n",
              "</table>\n",
              "</div>"
            ],
            "text/plain": [
              "   Year  Fiscal_Week  ... total_sales Email_Send_Volume\n",
              "0  2019            1  ...           0           3795307\n",
              "1  2019            1  ...         108           3795307\n",
              "2  2019            1  ...         183           3795307\n",
              "3  2019            1  ...          31           3795307\n",
              "4  2019            1  ...           0           3795307\n",
              "5  2019            1  ...           0           3795307\n",
              "6  2019            1  ...           0           3795307\n",
              "7  2019            1  ...           0           3795307\n",
              "8  2019            1  ...         156           3795307\n",
              "9  2019            1  ...          16           3795307\n",
              "\n",
              "[10 rows x 6 columns]"
            ]
          },
          "metadata": {},
          "execution_count": 20
        }
      ]
    },
    {
      "cell_type": "markdown",
      "metadata": {
        "id": "IjZlksy4yIRx"
      },
      "source": [
        "## Vamos a ver ahora la correlacion lineal entre las variables escogidas"
      ]
    },
    {
      "cell_type": "code",
      "metadata": {
        "colab": {
          "base_uri": "https://localhost:8080/",
          "height": 516
        },
        "id": "C4ggUht11HZR",
        "outputId": "a20297f4-2810-4091-9a3d-7d1266919934"
      },
      "source": [
        "corr = datos4.corr()\n",
        "plt.figure(figsize=(8,8))\n",
        "sns.heatmap(corr, cbar = True,  square = True, annot=True, fmt= '.2f',annot_kws={'size': 15},\n",
        "           cmap= 'coolwarm')\n",
        "plt.xticks(rotation = 45)\n",
        "plt.yticks(rotation = 45)\n",
        "plt.show()"
      ],
      "execution_count": null,
      "outputs": [
        {
          "output_type": "display_data",
          "data": {
            "image/png": "[encoded data removed]",
            "text/plain": [
              "<Figure size 576x576 with 2 Axes>"
            ]
          },
          "metadata": {
            "needs_background": "light"
          }
        }
      ]
    },
    {
      "cell_type": "markdown",
      "metadata": {
        "id": "T58oYCDayWQx"
      },
      "source": [
        "## Ahora agregamos la columna con el nombre de las variables que escogimos para hacer nuestra predicción"
      ]
    },
    {
      "cell_type": "code",
      "metadata": {
        "id": "QXYl8_SvWkcd"
      },
      "source": [
        "datos6 = con.execute(\"ALTER TABLE base_modelo ADD COLUMN Ventas_totales VARCHAR(50)\")"
      ],
      "execution_count": null,
      "outputs": []
    },
    {
      "cell_type": "code",
      "metadata": {
        "id": "C_uELsiLWkpc"
      },
      "source": [
        "datos7=con.execute(\"ALTER TABLE base_modelo ADD COLUMN Cantidad_de_emails VARCHAR(50)\")"
      ],
      "execution_count": null,
      "outputs": []
    },
    {
      "cell_type": "code",
      "metadata": {
        "colab": {
          "base_uri": "https://localhost:8080/",
          "height": 363
        },
        "id": "gSjJ7N6xXLay",
        "outputId": "e99664ce-5824-49cc-aa82-53690ab7554e"
      },
      "source": [
        "pd.read_sql(\"SELECT *  FROM  base_modelo LIMIT 10 \",con)"
      ],
      "execution_count": null,
      "outputs": [
        {
          "output_type": "execute_result",
          "data": {
            "text/html": [
              "<div>\n",
              "<style scoped>\n",
              "    .dataframe tbody tr th:only-of-type {\n",
              "        vertical-align: middle;\n",
              "    }\n",
              "\n",
              "    .dataframe tbody tr th {\n",
              "        vertical-align: top;\n",
              "    }\n",
              "\n",
              "    .dataframe thead th {\n",
              "        text-align: right;\n",
              "    }\n",
              "</style>\n",
              "<table border=\"1\" class=\"dataframe\">\n",
              "  <thead>\n",
              "    <tr style=\"text-align: right;\">\n",
              "      <th></th>\n",
              "      <th>Year</th>\n",
              "      <th>Fiscal_Week</th>\n",
              "      <th>Census_Region</th>\n",
              "      <th>product_category_adj</th>\n",
              "      <th>total_sales</th>\n",
              "      <th>Email_Send_Volume</th>\n",
              "      <th>Ventas_totales</th>\n",
              "      <th>Cantidad_de_emails</th>\n",
              "    </tr>\n",
              "  </thead>\n",
              "  <tbody>\n",
              "    <tr>\n",
              "      <th>0</th>\n",
              "      <td>2019</td>\n",
              "      <td>1</td>\n",
              "      <td>East North Central</td>\n",
              "      <td>Hard Cooler</td>\n",
              "      <td>0</td>\n",
              "      <td>3795307</td>\n",
              "      <td>None</td>\n",
              "      <td>None</td>\n",
              "    </tr>\n",
              "    <tr>\n",
              "      <th>1</th>\n",
              "      <td>2019</td>\n",
              "      <td>1</td>\n",
              "      <td>East North Central</td>\n",
              "      <td>Hard Cooler</td>\n",
              "      <td>108</td>\n",
              "      <td>3795307</td>\n",
              "      <td>None</td>\n",
              "      <td>None</td>\n",
              "    </tr>\n",
              "    <tr>\n",
              "      <th>2</th>\n",
              "      <td>2019</td>\n",
              "      <td>1</td>\n",
              "      <td>East North Central</td>\n",
              "      <td>Hard Cooler</td>\n",
              "      <td>183</td>\n",
              "      <td>3795307</td>\n",
              "      <td>None</td>\n",
              "      <td>None</td>\n",
              "    </tr>\n",
              "    <tr>\n",
              "      <th>3</th>\n",
              "      <td>2019</td>\n",
              "      <td>1</td>\n",
              "      <td>East North Central</td>\n",
              "      <td>Hard Cooler</td>\n",
              "      <td>31</td>\n",
              "      <td>3795307</td>\n",
              "      <td>None</td>\n",
              "      <td>None</td>\n",
              "    </tr>\n",
              "    <tr>\n",
              "      <th>4</th>\n",
              "      <td>2019</td>\n",
              "      <td>1</td>\n",
              "      <td>East North Central</td>\n",
              "      <td>Hard Cooler</td>\n",
              "      <td>0</td>\n",
              "      <td>3795307</td>\n",
              "      <td>None</td>\n",
              "      <td>None</td>\n",
              "    </tr>\n",
              "    <tr>\n",
              "      <th>5</th>\n",
              "      <td>2019</td>\n",
              "      <td>1</td>\n",
              "      <td>East North Central</td>\n",
              "      <td>Hard Cooler</td>\n",
              "      <td>0</td>\n",
              "      <td>3795307</td>\n",
              "      <td>None</td>\n",
              "      <td>None</td>\n",
              "    </tr>\n",
              "    <tr>\n",
              "      <th>6</th>\n",
              "      <td>2019</td>\n",
              "      <td>1</td>\n",
              "      <td>East North Central</td>\n",
              "      <td>Hard Cooler</td>\n",
              "      <td>0</td>\n",
              "      <td>3795307</td>\n",
              "      <td>None</td>\n",
              "      <td>None</td>\n",
              "    </tr>\n",
              "    <tr>\n",
              "      <th>7</th>\n",
              "      <td>2019</td>\n",
              "      <td>1</td>\n",
              "      <td>East North Central</td>\n",
              "      <td>Hard Cooler</td>\n",
              "      <td>0</td>\n",
              "      <td>3795307</td>\n",
              "      <td>None</td>\n",
              "      <td>None</td>\n",
              "    </tr>\n",
              "    <tr>\n",
              "      <th>8</th>\n",
              "      <td>2019</td>\n",
              "      <td>1</td>\n",
              "      <td>East North Central</td>\n",
              "      <td>Hard Cooler</td>\n",
              "      <td>156</td>\n",
              "      <td>3795307</td>\n",
              "      <td>None</td>\n",
              "      <td>None</td>\n",
              "    </tr>\n",
              "    <tr>\n",
              "      <th>9</th>\n",
              "      <td>2019</td>\n",
              "      <td>1</td>\n",
              "      <td>East North Central</td>\n",
              "      <td>Hard Cooler</td>\n",
              "      <td>16</td>\n",
              "      <td>3795307</td>\n",
              "      <td>None</td>\n",
              "      <td>None</td>\n",
              "    </tr>\n",
              "  </tbody>\n",
              "</table>\n",
              "</div>"
            ],
            "text/plain": [
              "   Year  Fiscal_Week  ... Ventas_totales Cantidad_de_emails\n",
              "0  2019            1  ...           None               None\n",
              "1  2019            1  ...           None               None\n",
              "2  2019            1  ...           None               None\n",
              "3  2019            1  ...           None               None\n",
              "4  2019            1  ...           None               None\n",
              "5  2019            1  ...           None               None\n",
              "6  2019            1  ...           None               None\n",
              "7  2019            1  ...           None               None\n",
              "8  2019            1  ...           None               None\n",
              "9  2019            1  ...           None               None\n",
              "\n",
              "[10 rows x 8 columns]"
            ]
          },
          "metadata": {},
          "execution_count": 24
        }
      ]
    },
    {
      "cell_type": "markdown",
      "metadata": {
        "id": "RLsk33lbyuRj"
      },
      "source": [
        "## Ahora vamos definir nuestra X y Y para el modelo de regresión lineal."
      ]
    },
    {
      "cell_type": "code",
      "metadata": {
        "id": "_qoCaFKqJ9om"
      },
      "source": [
        "X = datos4[[\"Email_Send_Volume\"]]\n",
        "y = datos4[\"total_sales\"]"
      ],
      "execution_count": null,
      "outputs": []
    },
    {
      "cell_type": "code",
      "metadata": {
        "id": "qcSO7fO4BOyU"
      },
      "source": [
        "from sklearn.metrics import mean_squared_error\n",
        "from sklearn.linear_model import LinearRegression\n",
        "from sklearn.model_selection import train_test_split\n",
        "from sklearn.metrics import r2_score\n",
        "from sklearn import metrics\n",
        "from sklearn.preprocessing import StandardScaler"
      ],
      "execution_count": null,
      "outputs": []
    },
    {
      "cell_type": "code",
      "metadata": {
        "colab": {
          "base_uri": "https://localhost:8080/"
        },
        "id": "sac8gV6K0CJv",
        "outputId": "2ed825d8-7f6f-4f5b-c282-de4eb4c56896"
      },
      "source": [
        "\n",
        "escalador = StandardScaler()\n",
        "escalador.fit(X)"
      ],
      "execution_count": null,
      "outputs": [
        {
          "output_type": "execute_result",
          "data": {
            "text/plain": [
              "StandardScaler()"
            ]
          },
          "metadata": {},
          "execution_count": 27
        }
      ]
    },
    {
      "cell_type": "code",
      "metadata": {
        "colab": {
          "base_uri": "https://localhost:8080/"
        },
        "id": "6b7w8zzR0CYS",
        "outputId": "2abe9d36-d18e-4708-fdc5-03a5aa5a9695"
      },
      "source": [
        "X_escalado = escalador.transform(X)\n",
        "X_escalado"
      ],
      "execution_count": null,
      "outputs": [
        {
          "output_type": "execute_result",
          "data": {
            "text/plain": [
              "array([[-0.89701277],\n",
              "       [-0.89701277],\n",
              "       [-0.89701277],\n",
              "       ...,\n",
              "       [-0.05776538],\n",
              "       [-0.05776538],\n",
              "       [-0.05776538]])"
            ]
          },
          "metadata": {},
          "execution_count": 28
        }
      ]
    },
    {
      "cell_type": "code",
      "metadata": {
        "id": "AnE1QeBhJ4Fg"
      },
      "source": [
        "X_train,X_test,y_train,y_test= train_test_split(X_escalado,y,test_size=0.20,random_state=42)"
      ],
      "execution_count": null,
      "outputs": []
    },
    {
      "cell_type": "code",
      "metadata": {
        "id": "Y26UWuGIJ4RS"
      },
      "source": [
        "regressor = LinearRegression()\n",
        "regressor.fit(X_train,y_train)\n",
        "y_train_pred= regressor.predict(X_train)\n",
        "y_test_pred=regressor.predict(X_test)"
      ],
      "execution_count": null,
      "outputs": []
    },
    {
      "cell_type": "code",
      "metadata": {
        "id": "ONQ20kWrJ4ec"
      },
      "source": [
        "RMSE_train=np.sqrt(mean_squared_error(y_train,y_train_pred))\n",
        "RMSE_test=np.sqrt(mean_squared_error(y_test,y_test_pred))\n",
        "r2_train= metrics.r2_score(y_train, y_train_pred)\n",
        "r2_test= metrics.r2_score(y_test, y_test_pred)"
      ],
      "execution_count": null,
      "outputs": []
    },
    {
      "cell_type": "code",
      "metadata": {
        "colab": {
          "base_uri": "https://localhost:8080/"
        },
        "id": "jPMaWuE9J4xq",
        "outputId": "4ad0a5dd-bc23-4844-bf85-ea9e60977622"
      },
      "source": [
        "print(\"Error cudratico medio train:\",RMSE_train)\n",
        "print(\"Error cudratico medio test:\",RMSE_test)\n",
        "print(\"El Coeficiente de determinacion train:\",r2_train)\n",
        "print(\"El Coeficiente de determinacion test:\",r2_test)"
      ],
      "execution_count": null,
      "outputs": [
        {
          "output_type": "stream",
          "name": "stdout",
          "text": [
            "Error cudratico medio train: 5056.177287104184\n",
            "Error cudratico medio test: 5577.042905015711\n",
            "El Coeficiente de determinacion train: 9.891798958139297e-05\n",
            "El Coeficiente de determinacion test: -8.141125205463062e-05\n"
          ]
        }
      ]
    },
    {
      "cell_type": "code",
      "metadata": {
        "colab": {
          "base_uri": "https://localhost:8080/",
          "height": 390
        },
        "id": "VqZ4dAIvR3AK",
        "outputId": "9db2ac6d-9340-4cea-e0e8-b3ffc52f713b"
      },
      "source": [
        "plt.figure(figsize = (8,4))\n",
        "\n",
        "plt.subplot(1,2,1)\n",
        "sns.distplot(y_train - y_train_pred, bins = 20, label = 'train')\n",
        "sns.distplot(y_test - y_test_pred, bins = 20, label = 'test')\n",
        "plt.xlabel('errores')\n",
        "plt.legend()\n",
        "\n",
        "\n",
        "ax = plt.subplot(1,2,2)\n",
        "ax.scatter(y_test,y_test_pred, s =2)\n",
        "    \n",
        "lims = [\n",
        "np.min([ax.get_xlim(), ax.get_ylim()]),  # min of both axes\n",
        "np.max([ax.get_xlim(), ax.get_ylim()]),  # max of both axes]\n",
        "    ]\n",
        "    \n",
        "ax.plot(lims, lims, 'k-', alpha=0.75, zorder=0)\n",
        "plt.xlabel('y (test)')\n",
        "plt.ylabel('y_pred (test)')\n",
        "    \n",
        "plt.tight_layout()\n",
        "plt.show()"
      ],
      "execution_count": null,
      "outputs": [
        {
          "output_type": "stream",
          "name": "stderr",
          "text": [
            "/usr/local/lib/python3.7/dist-packages/seaborn/distributions.py:2619: FutureWarning: `distplot` is a deprecated function and will be removed in a future version. Please adapt your code to use either `displot` (a figure-level function with similar flexibility) or `histplot` (an axes-level function for histograms).\n",
            "  warnings.warn(msg, FutureWarning)\n",
            "/usr/local/lib/python3.7/dist-packages/seaborn/distributions.py:2619: FutureWarning: `distplot` is a deprecated function and will be removed in a future version. Please adapt your code to use either `displot` (a figure-level function with similar flexibility) or `histplot` (an axes-level function for histograms).\n",
            "  warnings.warn(msg, FutureWarning)\n"
          ]
        },
        {
          "output_type": "display_data",
          "data": {
            "image/png": "[encoded data removed]",
            "text/plain": [
              "<Figure size 576x288 with 2 Axes>"
            ]
          },
          "metadata": {
            "needs_background": "light"
          }
        }
      ]
    },
    {
      "cell_type": "markdown",
      "metadata": {
        "id": "1jFLsJse1AKz"
      },
      "source": [
        "## Después de haber obtenido los datos para construir este modelo generamos un mapa de correlación lineal entre las variables escogidas por lo que vemos que la correlación entre las 2 variables es solo del 16% a esto podemos atribuir que la información proporcionada en los archivos no es suficiente para poder predecir con exactitud las ventas totales ya que contienen información como la cantidad de comerciales emitidos en tv o el volumen de la base de datos en las campañas de marketing"
      ]
    },
    {
      "cell_type": "code",
      "metadata": {
        "id": "dqDe8bzER3KV"
      },
      "source": [
        ""
      ],
      "execution_count": null,
      "outputs": []
    },
    {
      "cell_type": "markdown",
      "metadata": {
        "id": "8Y4RWZIy1AYm"
      },
      "source": [
        ""
      ]
    },
    {
      "cell_type": "markdown",
      "metadata": {
        "id": "V6-F-o6J1AjD"
      },
      "source": [
        ""
      ]
    },
    {
      "cell_type": "markdown",
      "metadata": {
        "id": "zmydcuHD1Aw8"
      },
      "source": [
        ""
      ]
    },
    {
      "cell_type": "code",
      "metadata": {
        "id": "J74mYHplR3Wh"
      },
      "source": [
        ""
      ],
      "execution_count": null,
      "outputs": []
    },
    {
      "cell_type": "code",
      "metadata": {
        "id": "uDrJYgGRR3hG"
      },
      "source": [
        ""
      ],
      "execution_count": null,
      "outputs": []
    },
    {
      "cell_type": "code",
      "metadata": {
        "id": "nFV8cZh4R3sJ"
      },
      "source": [
        ""
      ],
      "execution_count": null,
      "outputs": []
    },
    {
      "cell_type": "code",
      "metadata": {
        "id": "wY8iHoAfR320"
      },
      "source": [
        ""
      ],
      "execution_count": null,
      "outputs": []
    },
    {
      "cell_type": "code",
      "metadata": {
        "id": "t3X4SSsdJ5RJ"
      },
      "source": [
        ""
      ],
      "execution_count": null,
      "outputs": []
    },
    {
      "cell_type": "code",
      "metadata": {
        "id": "5TmcvvRc1INe"
      },
      "source": [
        ""
      ],
      "execution_count": null,
      "outputs": []
    }
  ]
}